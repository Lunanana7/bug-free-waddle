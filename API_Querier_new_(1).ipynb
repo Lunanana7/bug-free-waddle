{
  "nbformat": 4,
  "nbformat_minor": 0,
  "metadata": {
    "colab": {
      "name": "API_Querier_new (1).ipynb",
      "provenance": [],
      "collapsed_sections": []
    },
    "kernelspec": {
      "display_name": "Python 3",
      "language": "python",
      "name": "python3"
    },
    "language_info": {
      "codemirror_mode": {
        "name": "ipython",
        "version": 3
      },
      "file_extension": ".py",
      "mimetype": "text/x-python",
      "name": "python",
      "nbconvert_exporter": "python",
      "pygments_lexer": "ipython3",
      "version": "3.7.6rc1"
    }
  },
  "cells": [
    {
      "cell_type": "markdown",
      "metadata": {
        "id": "RUonABgNdZS1"
      },
      "source": [
        "# Open Data\n",
        "政府資料開放平臺：https://data.gov.tw/\n",
        "<br>\n",
        "臺北市資料大平臺：https://data.taipei/\n",
        "<br>\n",
        "新北市政府資料開放平臺：https://data.ntpc.gov.tw/\n",
        "<br>\n",
        "內政資料開放平臺：https://data.moi.gov.tw/\n",
        "<br>\n",
        "氣象開放資料平臺：https://opendata.cwb.gov.tw/\n",
        "<br>\n",
        "# API\n",
        "中央氣象局開放資料平臺之資料擷取API：https://opendata.cwb.gov.tw/dist/opendata-swagger.html\n",
        "<br>\n",
        "Coronavirus Tracker API：https://github.com/ExpDev07/coronavirus-tracker-api\n"
      ]
    },
    {
      "cell_type": "code",
      "metadata": {
        "id": "TogszyRO97-n"
      },
      "source": [
        "import requests"
      ],
      "execution_count": 2,
      "outputs": []
    },
    {
      "cell_type": "code",
      "metadata": {
        "id": "EygtksxCdO3b"
      },
      "source": [
        "# Coronavirus API URL\n",
        "api_url_apple = 'https://opendata.cwb.gov.tw/api/v1/rest/datastore/F-C0032-001?Authorization=CWB-62AD2FFB-4DF1-4D0E-B8F2-44433882845D&locationName=%E6%96%B0%E5%8C%97%E5%B8%82'\n"
      ],
      "execution_count": 5,
      "outputs": []
    },
    {
      "cell_type": "code",
      "metadata": {
        "id": "eq-dcrOQ8rID"
      },
      "source": [
        "def retrieval_api(api_url):\n",
        "  response = requests.get(api_url_apple)\n",
        "  # print('Status Code: ' + str(response.status_code))\n",
        "  return str(response.json())"
      ],
      "execution_count": 6,
      "outputs": []
    },
    {
      "cell_type": "code",
      "metadata": {
        "id": "sTVCUKtqZ-_9"
      },
      "source": [
        "location_json = retrieval_api(api_url_country)"
      ],
      "execution_count": 7,
      "outputs": []
    },
    {
      "cell_type": "code",
      "metadata": {
        "colab": {
          "base_uri": "https://localhost:8080/"
        },
        "id": "1aKsRl2vZtqI",
        "outputId": "e3663f89-9644-4942-91cd-8cf36ec17459"
      },
      "source": [
        "print(location_json)"
      ],
      "execution_count": 8,
      "outputs": [
        {
          "output_type": "stream",
          "text": [
            "{'success': 'true', 'result': {'resource_id': 'F-C0032-001', 'fields': [{'id': 'datasetDescription', 'type': 'String'}, {'id': 'locationName', 'type': 'String'}, {'id': 'parameterName', 'type': 'String'}, {'id': 'parameterValue', 'type': 'String'}, {'id': 'parameterUnit', 'type': 'String'}, {'id': 'startTime', 'type': 'Timestamp'}, {'id': 'endTime', 'type': 'Timestamp'}]}, 'records': {'datasetDescription': '三十六小時天氣預報', 'location': [{'locationName': '新北市', 'weatherElement': [{'elementName': 'Wx', 'time': [{'startTime': '2021-03-16 18:00:00', 'endTime': '2021-03-17 06:00:00', 'parameter': {'parameterName': '晴時多雲', 'parameterValue': '2'}}, {'startTime': '2021-03-17 06:00:00', 'endTime': '2021-03-17 18:00:00', 'parameter': {'parameterName': '晴時多雲', 'parameterValue': '2'}}, {'startTime': '2021-03-17 18:00:00', 'endTime': '2021-03-18 06:00:00', 'parameter': {'parameterName': '晴時多雲', 'parameterValue': '2'}}]}, {'elementName': 'PoP', 'time': [{'startTime': '2021-03-16 18:00:00', 'endTime': '2021-03-17 06:00:00', 'parameter': {'parameterName': '0', 'parameterUnit': '百分比'}}, {'startTime': '2021-03-17 06:00:00', 'endTime': '2021-03-17 18:00:00', 'parameter': {'parameterName': '0', 'parameterUnit': '百分比'}}, {'startTime': '2021-03-17 18:00:00', 'endTime': '2021-03-18 06:00:00', 'parameter': {'parameterName': '0', 'parameterUnit': '百分比'}}]}, {'elementName': 'MinT', 'time': [{'startTime': '2021-03-16 18:00:00', 'endTime': '2021-03-17 06:00:00', 'parameter': {'parameterName': '20', 'parameterUnit': 'C'}}, {'startTime': '2021-03-17 06:00:00', 'endTime': '2021-03-17 18:00:00', 'parameter': {'parameterName': '20', 'parameterUnit': 'C'}}, {'startTime': '2021-03-17 18:00:00', 'endTime': '2021-03-18 06:00:00', 'parameter': {'parameterName': '21', 'parameterUnit': 'C'}}]}, {'elementName': 'CI', 'time': [{'startTime': '2021-03-16 18:00:00', 'endTime': '2021-03-17 06:00:00', 'parameter': {'parameterName': '舒適'}}, {'startTime': '2021-03-17 06:00:00', 'endTime': '2021-03-17 18:00:00', 'parameter': {'parameterName': '舒適至悶熱'}}, {'startTime': '2021-03-17 18:00:00', 'endTime': '2021-03-18 06:00:00', 'parameter': {'parameterName': '舒適'}}]}, {'elementName': 'MaxT', 'time': [{'startTime': '2021-03-16 18:00:00', 'endTime': '2021-03-17 06:00:00', 'parameter': {'parameterName': '25', 'parameterUnit': 'C'}}, {'startTime': '2021-03-17 06:00:00', 'endTime': '2021-03-17 18:00:00', 'parameter': {'parameterName': '30', 'parameterUnit': 'C'}}, {'startTime': '2021-03-17 18:00:00', 'endTime': '2021-03-18 06:00:00', 'parameter': {'parameterName': '26', 'parameterUnit': 'C'}}]}]}]}}\n"
          ],
          "name": "stdout"
        }
      ]
    },
    {
      "cell_type": "code",
      "metadata": {
        "colab": {
          "base_uri": "https://localhost:8080/"
        },
        "id": "9Ubrk_l3tgXi",
        "outputId": "a97d22dc-66ab-449d-8dd4-63e6ff3f9032"
      },
      "source": [
        "print(type(location_json))"
      ],
      "execution_count": 9,
      "outputs": [
        {
          "output_type": "stream",
          "text": [
            "<class 'str'>\n"
          ],
          "name": "stdout"
        }
      ]
    },
    {
      "cell_type": "code",
      "metadata": {
        "colab": {
          "base_uri": "https://localhost:8080/"
        },
        "id": "3WO20__pCVec",
        "outputId": "69a6c062-d350-4db0-e276-ccc9e2799b6b"
      },
      "source": [
        "location_json = location_json.replace(\"\\'\", \"\\\"\")\n",
        "print(location_json)"
      ],
      "execution_count": 10,
      "outputs": [
        {
          "output_type": "stream",
          "text": [
            "{\"success\": \"true\", \"result\": {\"resource_id\": \"F-C0032-001\", \"fields\": [{\"id\": \"datasetDescription\", \"type\": \"String\"}, {\"id\": \"locationName\", \"type\": \"String\"}, {\"id\": \"parameterName\", \"type\": \"String\"}, {\"id\": \"parameterValue\", \"type\": \"String\"}, {\"id\": \"parameterUnit\", \"type\": \"String\"}, {\"id\": \"startTime\", \"type\": \"Timestamp\"}, {\"id\": \"endTime\", \"type\": \"Timestamp\"}]}, \"records\": {\"datasetDescription\": \"三十六小時天氣預報\", \"location\": [{\"locationName\": \"新北市\", \"weatherElement\": [{\"elementName\": \"Wx\", \"time\": [{\"startTime\": \"2021-03-16 18:00:00\", \"endTime\": \"2021-03-17 06:00:00\", \"parameter\": {\"parameterName\": \"晴時多雲\", \"parameterValue\": \"2\"}}, {\"startTime\": \"2021-03-17 06:00:00\", \"endTime\": \"2021-03-17 18:00:00\", \"parameter\": {\"parameterName\": \"晴時多雲\", \"parameterValue\": \"2\"}}, {\"startTime\": \"2021-03-17 18:00:00\", \"endTime\": \"2021-03-18 06:00:00\", \"parameter\": {\"parameterName\": \"晴時多雲\", \"parameterValue\": \"2\"}}]}, {\"elementName\": \"PoP\", \"time\": [{\"startTime\": \"2021-03-16 18:00:00\", \"endTime\": \"2021-03-17 06:00:00\", \"parameter\": {\"parameterName\": \"0\", \"parameterUnit\": \"百分比\"}}, {\"startTime\": \"2021-03-17 06:00:00\", \"endTime\": \"2021-03-17 18:00:00\", \"parameter\": {\"parameterName\": \"0\", \"parameterUnit\": \"百分比\"}}, {\"startTime\": \"2021-03-17 18:00:00\", \"endTime\": \"2021-03-18 06:00:00\", \"parameter\": {\"parameterName\": \"0\", \"parameterUnit\": \"百分比\"}}]}, {\"elementName\": \"MinT\", \"time\": [{\"startTime\": \"2021-03-16 18:00:00\", \"endTime\": \"2021-03-17 06:00:00\", \"parameter\": {\"parameterName\": \"20\", \"parameterUnit\": \"C\"}}, {\"startTime\": \"2021-03-17 06:00:00\", \"endTime\": \"2021-03-17 18:00:00\", \"parameter\": {\"parameterName\": \"20\", \"parameterUnit\": \"C\"}}, {\"startTime\": \"2021-03-17 18:00:00\", \"endTime\": \"2021-03-18 06:00:00\", \"parameter\": {\"parameterName\": \"21\", \"parameterUnit\": \"C\"}}]}, {\"elementName\": \"CI\", \"time\": [{\"startTime\": \"2021-03-16 18:00:00\", \"endTime\": \"2021-03-17 06:00:00\", \"parameter\": {\"parameterName\": \"舒適\"}}, {\"startTime\": \"2021-03-17 06:00:00\", \"endTime\": \"2021-03-17 18:00:00\", \"parameter\": {\"parameterName\": \"舒適至悶熱\"}}, {\"startTime\": \"2021-03-17 18:00:00\", \"endTime\": \"2021-03-18 06:00:00\", \"parameter\": {\"parameterName\": \"舒適\"}}]}, {\"elementName\": \"MaxT\", \"time\": [{\"startTime\": \"2021-03-16 18:00:00\", \"endTime\": \"2021-03-17 06:00:00\", \"parameter\": {\"parameterName\": \"25\", \"parameterUnit\": \"C\"}}, {\"startTime\": \"2021-03-17 06:00:00\", \"endTime\": \"2021-03-17 18:00:00\", \"parameter\": {\"parameterName\": \"30\", \"parameterUnit\": \"C\"}}, {\"startTime\": \"2021-03-17 18:00:00\", \"endTime\": \"2021-03-18 06:00:00\", \"parameter\": {\"parameterName\": \"26\", \"parameterUnit\": \"C\"}}]}]}]}}\n"
          ],
          "name": "stdout"
        }
      ]
    },
    {
      "cell_type": "code",
      "metadata": {
        "colab": {
          "base_uri": "https://localhost:8080/"
        },
        "id": "OXwi5zYyCVmn",
        "outputId": "5ac51b46-9444-4f89-ebec-cb5cd043c7de"
      },
      "source": [
        "import json\n",
        "location_dic = json.loads(location_json)\n",
        "print(type(location_dic))\n",
        "print(location_dic)"
      ],
      "execution_count": 11,
      "outputs": [
        {
          "output_type": "stream",
          "text": [
            "<class 'dict'>\n",
            "{'success': 'true', 'result': {'resource_id': 'F-C0032-001', 'fields': [{'id': 'datasetDescription', 'type': 'String'}, {'id': 'locationName', 'type': 'String'}, {'id': 'parameterName', 'type': 'String'}, {'id': 'parameterValue', 'type': 'String'}, {'id': 'parameterUnit', 'type': 'String'}, {'id': 'startTime', 'type': 'Timestamp'}, {'id': 'endTime', 'type': 'Timestamp'}]}, 'records': {'datasetDescription': '三十六小時天氣預報', 'location': [{'locationName': '新北市', 'weatherElement': [{'elementName': 'Wx', 'time': [{'startTime': '2021-03-16 18:00:00', 'endTime': '2021-03-17 06:00:00', 'parameter': {'parameterName': '晴時多雲', 'parameterValue': '2'}}, {'startTime': '2021-03-17 06:00:00', 'endTime': '2021-03-17 18:00:00', 'parameter': {'parameterName': '晴時多雲', 'parameterValue': '2'}}, {'startTime': '2021-03-17 18:00:00', 'endTime': '2021-03-18 06:00:00', 'parameter': {'parameterName': '晴時多雲', 'parameterValue': '2'}}]}, {'elementName': 'PoP', 'time': [{'startTime': '2021-03-16 18:00:00', 'endTime': '2021-03-17 06:00:00', 'parameter': {'parameterName': '0', 'parameterUnit': '百分比'}}, {'startTime': '2021-03-17 06:00:00', 'endTime': '2021-03-17 18:00:00', 'parameter': {'parameterName': '0', 'parameterUnit': '百分比'}}, {'startTime': '2021-03-17 18:00:00', 'endTime': '2021-03-18 06:00:00', 'parameter': {'parameterName': '0', 'parameterUnit': '百分比'}}]}, {'elementName': 'MinT', 'time': [{'startTime': '2021-03-16 18:00:00', 'endTime': '2021-03-17 06:00:00', 'parameter': {'parameterName': '20', 'parameterUnit': 'C'}}, {'startTime': '2021-03-17 06:00:00', 'endTime': '2021-03-17 18:00:00', 'parameter': {'parameterName': '20', 'parameterUnit': 'C'}}, {'startTime': '2021-03-17 18:00:00', 'endTime': '2021-03-18 06:00:00', 'parameter': {'parameterName': '21', 'parameterUnit': 'C'}}]}, {'elementName': 'CI', 'time': [{'startTime': '2021-03-16 18:00:00', 'endTime': '2021-03-17 06:00:00', 'parameter': {'parameterName': '舒適'}}, {'startTime': '2021-03-17 06:00:00', 'endTime': '2021-03-17 18:00:00', 'parameter': {'parameterName': '舒適至悶熱'}}, {'startTime': '2021-03-17 18:00:00', 'endTime': '2021-03-18 06:00:00', 'parameter': {'parameterName': '舒適'}}]}, {'elementName': 'MaxT', 'time': [{'startTime': '2021-03-16 18:00:00', 'endTime': '2021-03-17 06:00:00', 'parameter': {'parameterName': '25', 'parameterUnit': 'C'}}, {'startTime': '2021-03-17 06:00:00', 'endTime': '2021-03-17 18:00:00', 'parameter': {'parameterName': '30', 'parameterUnit': 'C'}}, {'startTime': '2021-03-17 18:00:00', 'endTime': '2021-03-18 06:00:00', 'parameter': {'parameterName': '26', 'parameterUnit': 'C'}}]}]}]}}\n"
          ],
          "name": "stdout"
        }
      ]
    },
    {
      "cell_type": "code",
      "metadata": {
        "id": "fHuv4RKcMsp1"
      },
      "source": [
        "city = location_dic['records']['location'][0]['locationName']\r\n",
        "thing = location_dic['records']['datasetDescription']\r\n",
        "sky = location_dic['records']['location'][0]['weatherElement'][0]['time'][0]['parameter']['parameterName']\r\n",
        "\r\n",
        "\r\n"
      ],
      "execution_count": 31,
      "outputs": []
    },
    {
      "cell_type": "code",
      "metadata": {
        "colab": {
          "base_uri": "https://localhost:8080/"
        },
        "id": "Bn5KZrKTMBkM",
        "outputId": "0bc40177-8ade-44b8-907d-ee38a5ee00b8"
      },
      "source": [
        "info =  city +  '今明' + thing + '是' + sky + '。'\r\n",
        "print(info)\r\n",
        "# https://www.cdc.gov.tw/?aspxerrorpath=/Bulletin/"
      ],
      "execution_count": 36,
      "outputs": [
        {
          "output_type": "stream",
          "text": [
            "新北市今明三十六小時天氣預報是晴時多雲。\n"
          ],
          "name": "stdout"
        }
      ]
    },
    {
      "cell_type": "code",
      "metadata": {
        "id": "sFWyOWQq_oVm"
      },
      "source": [
        "all_json = retrieval_api(api_url_all)"
      ],
      "execution_count": null,
      "outputs": []
    },
    {
      "cell_type": "code",
      "metadata": {
        "id": "Jf82Un7HO0S3"
      },
      "source": [
        "confirmed_json = retrieval_api(api_url_confirmed)"
      ],
      "execution_count": null,
      "outputs": []
    },
    {
      "cell_type": "code",
      "metadata": {
        "id": "fbH5ZIdyZ__v"
      },
      "source": [
        "deaths_json = retrieval_api(api_url_deaths)"
      ],
      "execution_count": null,
      "outputs": []
    },
    {
      "cell_type": "code",
      "metadata": {
        "id": "Z7RJvd0WaAIU"
      },
      "source": [
        "recovered_json = retrieval_api(api_url_recovered)"
      ],
      "execution_count": null,
      "outputs": []
    },
    {
      "cell_type": "code",
      "metadata": {
        "id": "o5A-jZh1V0Qu"
      },
      "source": [
        "# print(confirmed_json)\r\n",
        "confirmed_dic = json.loads(confirmed_json, strict=False)\r\n",
        "print(confirmed_dic)"
      ],
      "execution_count": null,
      "outputs": []
    }
  ]
}